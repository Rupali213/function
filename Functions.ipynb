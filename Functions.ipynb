{
 "cells": [
  {
   "cell_type": "markdown",
   "id": "4aa68c59-65f6-4d53-b536-9b61d0badbbc",
   "metadata": {},
   "source": [
    "# 1. What is the difference between a function and a method in Python?"
   ]
  },
  {
   "cell_type": "code",
   "execution_count": 4,
   "id": "4b34419c-bc34-4e9b-b0a9-080880b70dd0",
   "metadata": {},
   "outputs": [
    {
     "name": "stdout",
     "output_type": "stream",
     "text": [
      "8\n",
      "12\n"
     ]
    }
   ],
   "source": [
    "#Functions save time to write same code again and again.\n",
    "#It reduce redundancy and save our time to do tidious work\n",
    "#Once we write function we can call it again and again which we can't do with python method\n",
    "\n",
    "#we can call this function again and again by it name when we want to perform this task\n",
    "def sum_num(a,b):\n",
    "    sum=a+b\n",
    "    return sum\n",
    "\n",
    "\n",
    "# Here we have to do this task repeatdly\n",
    "print(3+5)\n",
    "print(8+4)\n",
    "    "
   ]
  },
  {
   "cell_type": "code",
   "execution_count": 2,
   "id": "11604620-7477-4144-9b90-ae9fae89c6ca",
   "metadata": {},
   "outputs": [
    {
     "data": {
      "text/plain": [
       "9"
      ]
     },
     "execution_count": 2,
     "metadata": {},
     "output_type": "execute_result"
    }
   ],
   "source": [
    "sum_num(2,7)"
   ]
  },
  {
   "cell_type": "markdown",
   "id": "4207f00e-4aed-47af-a4b4-2876b70b59b1",
   "metadata": {},
   "source": [
    "# 2. Explain the concept of function arguments and parameters in Python"
   ]
  },
  {
   "cell_type": "markdown",
   "id": "99483d43-ac95-4b8b-90ab-bcd348101672",
   "metadata": {},
   "source": [
    "A parameter is the variable listed inside the parentheses in the function \n",
    "An argument is the value that we pass to the function or to the placeholder when it is called."
   ]
  },
  {
   "cell_type": "code",
   "execution_count": 1,
   "id": "7d9c3a63-3928-4ff4-ab37-274ea0764e18",
   "metadata": {},
   "outputs": [
    {
     "data": {
      "text/plain": [
       "12"
      ]
     },
     "execution_count": 1,
     "metadata": {},
     "output_type": "execute_result"
    }
   ],
   "source": [
    "def mul_num(a,b):\n",
    "    mul=a*b\n",
    "    return(mul)#here a and b are parameters \n",
    "\n",
    "mul_num(2,6)#here 2,6 are argument\n",
    "    "
   ]
  },
  {
   "cell_type": "markdown",
   "id": "c7bbeb7b-ad7c-49eb-b7a8-6b18c069b175",
   "metadata": {},
   "source": [
    "# 3. What are the different ways to define and call a function in Python?"
   ]
  },
  {
   "cell_type": "markdown",
   "id": "4120ce88-8936-4cbd-b13f-0c15d181368f",
   "metadata": {},
   "source": [
    "\n",
    "#To define function\n",
    "1.We can define a function without passing any parameters inside the parenthesis and simply return the code.\n",
    "2.We can also list some parameters i.e placeholder and pass value to that .\n",
    "#To call function\n",
    "1 We call function by its name which is defined \n",
    "we pass argument when parameters is listed otherwise simply call by its name with passing argument.\n"
   ]
  },
  {
   "cell_type": "code",
   "execution_count": 12,
   "id": "c9099822-ef42-433d-9ac7-cd404d77e6ce",
   "metadata": {},
   "outputs": [
    {
     "name": "stdout",
     "output_type": "stream",
     "text": [
      "(hello my name is Rupali and i love to do sketching)\n"
     ]
    }
   ],
   "source": [
    "def name():\n",
    "    NM=\"Rupali\"\n",
    "    H=\"sketching\"\n",
    "    con=f\"(hello my name is {NM} and i love to do {H})\" \n",
    "    return con\n",
    "result=name()    \n",
    "print(result)    \n",
    "    \n",
    "#here i don't pass any parameter and call the function by its name(name())."
   ]
  },
  {
   "cell_type": "code",
   "execution_count": 13,
   "id": "71932b6b-e931-48bf-923b-891b1e36aad8",
   "metadata": {},
   "outputs": [],
   "source": [
    "def say_hello(a,b):\n",
    "    a=\"Hello\"\n",
    "    b=\"world\"\n",
    "    say=a+b\n",
    "    return(say)"
   ]
  },
  {
   "cell_type": "code",
   "execution_count": 14,
   "id": "d4cb6b95-b061-4e1f-ab7d-8ffc4f6daa4c",
   "metadata": {},
   "outputs": [
    {
     "data": {
      "text/plain": [
       "'Helloworld'"
      ]
     },
     "execution_count": 14,
     "metadata": {},
     "output_type": "execute_result"
    }
   ],
   "source": [
    "say_hello(3,4) #here we passed argument to parameter and concatenated string"
   ]
  },
  {
   "cell_type": "markdown",
   "id": "cf3ed0ee-fcc8-4492-80a3-a33677ec5a95",
   "metadata": {},
   "source": [
    "# 4. What is the purpose of the `return` statement in a Python function?"
   ]
  },
  {
   "cell_type": "code",
   "execution_count": null,
   "id": "3ca947ca-8aa9-43d2-bfd0-6120450fad65",
   "metadata": {},
   "outputs": [],
   "source": [
    "Return statement print the code in the form in which we have written or we can say type of the retuen statement is same as we write inside function\n",
    "where as in print it gives None type ,so to get its value in orginal form we use return ."
   ]
  },
  {
   "cell_type": "code",
   "execution_count": 19,
   "id": "e1d7823b-69ff-4bec-b6bf-879a1b4b0791",
   "metadata": {},
   "outputs": [],
   "source": [
    "def func():\n",
    "    print(\"hello\")\n",
    "    "
   ]
  },
  {
   "cell_type": "code",
   "execution_count": 20,
   "id": "d2f4e05e-a56b-481f-864a-429e7964a41e",
   "metadata": {},
   "outputs": [
    {
     "name": "stdout",
     "output_type": "stream",
     "text": [
      "hello\n"
     ]
    }
   ],
   "source": [
    "func()"
   ]
  },
  {
   "cell_type": "code",
   "execution_count": 21,
   "id": "23e045dd-6065-43d2-b5f9-b709af605c73",
   "metadata": {},
   "outputs": [
    {
     "name": "stdout",
     "output_type": "stream",
     "text": [
      "hello\n"
     ]
    },
    {
     "data": {
      "text/plain": [
       "NoneType"
      ]
     },
     "execution_count": 21,
     "metadata": {},
     "output_type": "execute_result"
    }
   ],
   "source": [
    "type(func())"
   ]
  },
  {
   "cell_type": "code",
   "execution_count": 22,
   "id": "726494d1-3d10-4c35-a8a1-e0eea0c0d5dc",
   "metadata": {},
   "outputs": [],
   "source": [
    "def func():\n",
    "    return(\"hello\")\n",
    "    "
   ]
  },
  {
   "cell_type": "code",
   "execution_count": 23,
   "id": "c5ec2182-b370-4579-9ad0-00bdaffa3169",
   "metadata": {},
   "outputs": [
    {
     "data": {
      "text/plain": [
       "str"
      ]
     },
     "execution_count": 23,
     "metadata": {},
     "output_type": "execute_result"
    }
   ],
   "source": [
    "type(func())"
   ]
  },
  {
   "cell_type": "markdown",
   "id": "d812842e-9670-456e-b70b-431d115ab21c",
   "metadata": {},
   "source": [
    "# 5. What are iterators in Python and how do they differ from iterables?"
   ]
  },
  {
   "cell_type": "code",
   "execution_count": null,
   "id": "6d60f050-3d47-4dc5-bbf8-a1ffb8c12466",
   "metadata": {},
   "outputs": [],
   "source": [
    "Iterable:Type of data that we can iterate over is called iterables like list,tuple,string, meaning we can loop through their elements one by one.\n",
    "\n",
    "Iterator:The object that iterate over data is called iterators.Iterators are created from iterables using the iter() function.\n",
    "so we can say iterator(perform task) is the key that iterate on iterables(on this task is performed)"
   ]
  },
  {
   "cell_type": "code",
   "execution_count": null,
   "id": "a99a14ee-4a76-4dc7-8710-6f4cd572308d",
   "metadata": {},
   "outputs": [],
   "source": [
    "for i in range(5):\n",
    "    print(i) # here parameter is iterable bcoz of range function it is looping 0 to 4 .\n"
   ]
  },
  {
   "cell_type": "code",
   "execution_count": 28,
   "id": "879d66fe-23d7-4631-ab40-c43358bef285",
   "metadata": {},
   "outputs": [],
   "source": [
    "a=iter(\"Rupali\")"
   ]
  },
  {
   "cell_type": "code",
   "execution_count": 29,
   "id": "8d67e5bb-ef24-4901-8655-9822eee3c1a8",
   "metadata": {},
   "outputs": [
    {
     "data": {
      "text/plain": [
       "'R'"
      ]
     },
     "execution_count": 29,
     "metadata": {},
     "output_type": "execute_result"
    }
   ],
   "source": [
    "next(a)"
   ]
  },
  {
   "cell_type": "code",
   "execution_count": 30,
   "id": "df585c6f-6aea-4de1-8faa-2c804a0bd439",
   "metadata": {},
   "outputs": [
    {
     "data": {
      "text/plain": [
       "'u'"
      ]
     },
     "execution_count": 30,
     "metadata": {},
     "output_type": "execute_result"
    }
   ],
   "source": [
    "next(a)"
   ]
  },
  {
   "cell_type": "markdown",
   "id": "bac5e791-719e-43e0-993b-7eaa843a975c",
   "metadata": {},
   "source": [
    "# 6. Explain the concept of generators in Python and how they are defined"
   ]
  },
  {
   "cell_type": "markdown",
   "id": "c97dde6d-a9ac-4cde-a72f-010b5a46ab29",
   "metadata": {},
   "source": [
    "A Python generator function allows us to declare a function that behaves like an iterator, gives result one by one instead of one go, so it saves\n",
    "time and gives result instantly.\n",
    "In place of return statement it uses yield statement ."
   ]
  },
  {
   "cell_type": "code",
   "execution_count": 68,
   "id": "db8d997e-e842-4072-9ea7-62e58a35ffe6",
   "metadata": {},
   "outputs": [],
   "source": [
    "def name():\n",
    "    for i in name:\n",
    "        yield name"
   ]
  },
  {
   "cell_type": "code",
   "execution_count": null,
   "id": "689bf1fb-3b1b-42b5-a61d-3b75b3754cfd",
   "metadata": {},
   "outputs": [],
   "source": []
  },
  {
   "cell_type": "code",
   "execution_count": 80,
   "id": "08eae747-4c1f-496d-a7c8-d286d9b39685",
   "metadata": {},
   "outputs": [],
   "source": [
    "r=name"
   ]
  },
  {
   "cell_type": "code",
   "execution_count": 75,
   "id": "98ae114f-efd4-4c6c-839d-52af524919e3",
   "metadata": {
    "scrolled": true
   },
   "outputs": [],
   "source": [
    "name=\"rupali\""
   ]
  },
  {
   "cell_type": "code",
   "execution_count": null,
   "id": "62f61cf4-e54a-4d37-9618-bbb4139ea8b2",
   "metadata": {},
   "outputs": [],
   "source": []
  },
  {
   "cell_type": "markdown",
   "id": "ff00b00d-8442-4f96-b254-d2ed2a4647f4",
   "metadata": {},
   "source": [
    "# 7. What are the advantages of using generators over regular functions"
   ]
  },
  {
   "cell_type": "code",
   "execution_count": null,
   "id": "253180ec-cd04-4389-915a-039d46b1839c",
   "metadata": {},
   "outputs": [],
   "source": []
  },
  {
   "cell_type": "code",
   "execution_count": null,
   "id": "0f27ec00-d3b4-4c3d-a0b0-e86f30e119ef",
   "metadata": {},
   "outputs": [],
   "source": []
  },
  {
   "cell_type": "markdown",
   "id": "7eaa56a1-968a-47a4-a79e-ee62cb812da1",
   "metadata": {},
   "source": [
    "# 8. What is a lambda function in Python and when is it typically used"
   ]
  },
  {
   "cell_type": "code",
   "execution_count": null,
   "id": "4614e04c-9c4e-4229-9bb2-0f337321510c",
   "metadata": {},
   "outputs": [],
   "source": [
    "lambda function is anonymous function that doesn't take def keyword to define function and doesn't require return ,it is used to reduce lines of code\n",
    "It is created using the lambda keyword, followed by a list of arguments and an expression.\n",
    "Syntax: lambda arguments: expression"
   ]
  },
  {
   "cell_type": "code",
   "execution_count": 81,
   "id": "ec903dbb-23ef-4e55-818c-5a8b8d21d669",
   "metadata": {},
   "outputs": [
    {
     "data": {
      "text/plain": [
       "5"
      ]
     },
     "execution_count": 81,
     "metadata": {},
     "output_type": "execute_result"
    }
   ],
   "source": [
    "#To sum two number using lambda function\n",
    "sum=lambda x,y:x+y\n",
    "sum(2,3)"
   ]
  },
  {
   "cell_type": "markdown",
   "id": "82cf8ba6-6588-4585-abb6-c8fa73b49cc2",
   "metadata": {},
   "source": [
    "# 9. Explain the purpose and usage of the `map()` function in Python"
   ]
  },
  {
   "cell_type": "code",
   "execution_count": null,
   "id": "94dce013-a487-4e45-bece-b12aff165b8e",
   "metadata": {},
   "outputs": [],
   "source": [
    "We use map function to transform the data within the iterable without using loop\n",
    "syntax>>map(function,iterable)"
   ]
  },
  {
   "cell_type": "code",
   "execution_count": 85,
   "id": "6a26bc13-c999-4763-aa72-259d5af5652c",
   "metadata": {},
   "outputs": [
    {
     "data": {
      "text/plain": [
       "[6, 9, 12, 15, 18]"
      ]
     },
     "execution_count": 85,
     "metadata": {},
     "output_type": "execute_result"
    }
   ],
   "source": [
    "l=[2,3,4,5,6]\n",
    "\n",
    "list(map(lambda x:x*3, l))\n"
   ]
  },
  {
   "cell_type": "markdown",
   "id": "4dfe9ed9-fd24-4692-afa4-ea99882c8759",
   "metadata": {},
   "source": [
    "# 10. What is the difference between `map()`, `reduce()`, and `filter()` functions in Python"
   ]
  },
  {
   "cell_type": "code",
   "execution_count": null,
   "id": "0b8e8cff-c585-40e1-bafd-9822f4d9c668",
   "metadata": {},
   "outputs": [],
   "source": [
    "map()>>map function is used to transform the data within the iterable\n",
    "reduce()>>this function is used to reduce the value and give single result\n",
    "filter>>this function is used to filter out the items from iterable based on given condition"
   ]
  },
  {
   "cell_type": "markdown",
   "id": "8db53b8d-6203-47e5-b7a1-f868c3f4e5cc",
   "metadata": {},
   "source": []
  },
  {
   "cell_type": "markdown",
   "id": "80ec7e9d-0b76-4f71-a24c-b4fc982cd4dc",
   "metadata": {},
   "source": [
    "# Practical Questions"
   ]
  },
  {
   "cell_type": "markdown",
   "id": "298db55b-1440-4cde-8b60-bb3a104c02b6",
   "metadata": {},
   "source": [
    "### 1. Write a Python function that takes a list of numbers as input and returns the sum of all even numbers in \n",
    "the list"
   ]
  },
  {
   "cell_type": "code",
   "execution_count": 5,
   "id": "b53d3509-d950-49c1-84be-5669de87fbba",
   "metadata": {},
   "outputs": [
    {
     "data": {
      "text/plain": [
       "[12]"
      ]
     },
     "execution_count": 5,
     "metadata": {},
     "output_type": "execute_result"
    }
   ],
   "source": [
    "\n",
    "def func(l):\n",
    "    sum=0\n",
    "    l1=[]\n",
    "    for i in l:\n",
    "        if i%2==0:\n",
    "            sum=sum+i\n",
    "    l1.append(sum)\n",
    "    \n",
    "    return(l1)       \n",
    "func([2,3,4,5,7,9,6])   \n",
    "    "
   ]
  },
  {
   "cell_type": "markdown",
   "id": "84adb606-e8a8-49b3-97d8-4a98518763b8",
   "metadata": {},
   "source": [
    "# 2. Create a Python function that accepts a string and returns the reverse of that string."
   ]
  },
  {
   "cell_type": "code",
   "execution_count": 113,
   "id": "c0e93e3d-5699-435f-9bcf-7cf8d3cf186a",
   "metadata": {},
   "outputs": [
    {
     "data": {
      "text/plain": [
       "'olleh'"
      ]
     },
     "execution_count": 113,
     "metadata": {},
     "output_type": "execute_result"
    }
   ],
   "source": [
    "def st(a):\n",
    "    return a[::-1]\n",
    "st(\"hello\")    \n",
    "    "
   ]
  },
  {
   "cell_type": "markdown",
   "id": "d2e3fe54-39b1-48fe-9902-137dbe4f256b",
   "metadata": {},
   "source": [
    "### 3. Implement a Python function that takes a list of integers and returns a new list containing the squares of \n",
    "each number"
   ]
  },
  {
   "cell_type": "code",
   "execution_count": 8,
   "id": "6f3cc498-7267-4862-a22c-5457a397ae0c",
   "metadata": {},
   "outputs": [
    {
     "data": {
      "text/plain": [
       "[1, 4, 9, 16, 25]"
      ]
     },
     "execution_count": 8,
     "metadata": {},
     "output_type": "execute_result"
    }
   ],
   "source": [
    "\n",
    "def sq(my_list):\n",
    "    l1=[]\n",
    "    for i in my_list:\n",
    "        a=i**2\n",
    "        l1.append(a)\n",
    "    return(l1)\n",
    "sq((1,2,3,4,5))  "
   ]
  },
  {
   "cell_type": "markdown",
   "id": "598cced4-182e-4d3e-91b7-2a2b09bd524e",
   "metadata": {},
   "source": [
    "### 4. Write a Python function that checks if a given number is prime or not from 1 to 200."
   ]
  },
  {
   "cell_type": "code",
   "execution_count": 21,
   "id": "8676fff5-46db-4201-bf5d-2aba367866c4",
   "metadata": {},
   "outputs": [
    {
     "name": "stdin",
     "output_type": "stream",
     "text": [
      "Enter a positive integer:  7\n"
     ]
    },
    {
     "name": "stdout",
     "output_type": "stream",
     "text": [
      "7 is prime.\n"
     ]
    }
   ],
   "source": [
    "def check_prime():\n",
    "    num = int(input(\"Enter a positive integer: \"))\n",
    "    if num > 1:\n",
    "        for i in range(2, num):\n",
    "            if num % i == 0:\n",
    "                print(f\"{num} is not prime.\")\n",
    "                break\n",
    "        else:\n",
    "            print(f\"{num} is prime.\")\n",
    "    else:\n",
    "        print(f\"{num} is not prime.\")\n",
    "        print(\"Invalid input. Please enter a positive integer.\")\n",
    "\n",
    "# Example usage:\n",
    "check_prime() "
   ]
  },
  {
   "cell_type": "markdown",
   "id": "f3668263-a5b8-4cab-9552-f7393e833833",
   "metadata": {},
   "source": [
    "### 5. Create an iterator class in Python that generates the Fibonacci sequence up to a specified number of \n",
    "terms\n",
    "    "
   ]
  },
  {
   "cell_type": "code",
   "execution_count": 43,
   "id": "799d24b7-a86c-4280-8ab3-e743e6357e37",
   "metadata": {},
   "outputs": [
    {
     "name": "stdout",
     "output_type": "stream",
     "text": [
      "0\n",
      "1\n",
      "1\n",
      "2\n",
      "3\n",
      "5\n",
      "8\n",
      "13\n",
      "21\n",
      "34\n",
      "55\n"
     ]
    }
   ],
   "source": [
    "def gen(n):\n",
    "    a, b = 0, 1\n",
    "    for i in range(n + 1):\n",
    "        yield a\n",
    "        a, b = b, a + b\n",
    "\n",
    "# Example usage:\n",
    "fib_gen = gen(10)\n",
    "for fib_num in fib_gen:\n",
    "    print(fib_num)\n"
   ]
  },
  {
   "cell_type": "markdown",
   "id": "96847194-81eb-4238-8791-3523f94e8aa2",
   "metadata": {},
   "source": [
    "### 6. Write a generator function in Python that yields the powers of 2 up to a given exponent"
   ]
  },
  {
   "cell_type": "code",
   "execution_count": 67,
   "id": "5ddbdd95-731a-4c67-b133-b8c2dfe250fd",
   "metadata": {},
   "outputs": [
    {
     "name": "stdout",
     "output_type": "stream",
     "text": [
      "1\n",
      "4\n",
      "9\n",
      "16\n",
      "25\n"
     ]
    }
   ],
   "source": [
    "def generate_squares():\n",
    "    for i in range(1, 6):\n",
    "        yield i**2\n",
    "\n",
    "# Using the generator to print squares\n",
    "square_generator = generate_squares()\n",
    "for square in square_generator:\n",
    "    print(square)\n"
   ]
  },
  {
   "cell_type": "markdown",
   "id": "3179481e-5935-43aa-a3be-c28cc8ef003a",
   "metadata": {},
   "source": [
    "### 7. Implement a generator function that reads a file line by line and yields each line as a string."
   ]
  },
  {
   "cell_type": "code",
   "execution_count": 64,
   "id": "0743cab4-60d8-44a0-8134-cda2e3802d70",
   "metadata": {},
   "outputs": [],
   "source": [
    "def read(a,b,c):\n",
    "    a,b,c=str\n",
    "    yield(a)\n",
    "    "
   ]
  },
  {
   "cell_type": "code",
   "execution_count": 65,
   "id": "bb5bba68-1df6-4987-96b0-e119f908d293",
   "metadata": {},
   "outputs": [
    {
     "ename": "TypeError",
     "evalue": "read() missing 2 required positional arguments: 'b' and 'c'",
     "output_type": "error",
     "traceback": [
      "\u001b[1;31m---------------------------------------------------------------------------\u001b[0m",
      "\u001b[1;31mTypeError\u001b[0m                                 Traceback (most recent call last)",
      "Cell \u001b[1;32mIn[65], line 1\u001b[0m\n\u001b[1;32m----> 1\u001b[0m b\u001b[38;5;241m=\u001b[39m\u001b[43mread\u001b[49m\u001b[43m(\u001b[49m\u001b[43m[\u001b[49m\u001b[43m[\u001b[49m\u001b[38;5;241;43m1\u001b[39;49m\u001b[43m,\u001b[49m\u001b[38;5;241;43m2\u001b[39;49m\u001b[43m,\u001b[49m\u001b[38;5;241;43m34\u001b[39;49m\u001b[43m,\u001b[49m\u001b[38;5;241;43m8\u001b[39;49m\u001b[43m]\u001b[49m\u001b[43m,\u001b[49m\u001b[43m{\u001b[49m\u001b[38;5;124;43m\"\u001b[39;49m\u001b[38;5;124;43ma\u001b[39;49m\u001b[38;5;124;43m\"\u001b[39;49m\u001b[43m:\u001b[49m\u001b[38;5;124;43m\"\u001b[39;49m\u001b[38;5;124;43mhello\u001b[39;49m\u001b[38;5;124;43m\"\u001b[39;49m\u001b[43m,\u001b[49m\u001b[38;5;124;43m\"\u001b[39;49m\u001b[38;5;124;43mb\u001b[39;49m\u001b[38;5;124;43m\"\u001b[39;49m\u001b[43m:\u001b[49m\u001b[38;5;124;43m\"\u001b[39;49m\u001b[38;5;124;43mworld\u001b[39;49m\u001b[38;5;124;43m\"\u001b[39;49m\u001b[43m}\u001b[49m\u001b[43m]\u001b[49m\u001b[43m)\u001b[49m\n",
      "\u001b[1;31mTypeError\u001b[0m: read() missing 2 required positional arguments: 'b' and 'c'"
     ]
    }
   ],
   "source": [
    "b=read([[1,2,34,8],{\"a\":\"hello\",\"b\":\"world\"}])"
   ]
  },
  {
   "cell_type": "code",
   "execution_count": 61,
   "id": "1efb170b-d189-48c8-801e-d8f4eef0ee2e",
   "metadata": {},
   "outputs": [
    {
     "ename": "StopIteration",
     "evalue": "",
     "output_type": "error",
     "traceback": [
      "\u001b[1;31m---------------------------------------------------------------------------\u001b[0m",
      "\u001b[1;31mStopIteration\u001b[0m                             Traceback (most recent call last)",
      "Cell \u001b[1;32mIn[61], line 1\u001b[0m\n\u001b[1;32m----> 1\u001b[0m \u001b[38;5;28;43mnext\u001b[39;49m\u001b[43m(\u001b[49m\u001b[43mb\u001b[49m\u001b[43m)\u001b[49m\n",
      "\u001b[1;31mStopIteration\u001b[0m: "
     ]
    }
   ],
   "source": [
    "next(b)"
   ]
  },
  {
   "cell_type": "code",
   "execution_count": 68,
   "id": "d4d6b54d-aa9b-4ec5-8508-43b3ed6e8b8d",
   "metadata": {},
   "outputs": [],
   "source": [
    "def generate_squares():\n",
    "    for i in range(1, 6):\n",
    "        yield i**2\n"
   ]
  },
  {
   "cell_type": "code",
   "execution_count": 69,
   "id": "281fdf5b-717e-46c2-866c-e6382a63fc93",
   "metadata": {},
   "outputs": [],
   "source": [
    "gen=generate_squares()"
   ]
  },
  {
   "cell_type": "code",
   "execution_count": 72,
   "id": "3a7e9bf1-fcf1-4997-bcba-93338c595d2a",
   "metadata": {},
   "outputs": [
    {
     "data": {
      "text/plain": [
       "9"
      ]
     },
     "execution_count": 72,
     "metadata": {},
     "output_type": "execute_result"
    }
   ],
   "source": [
    "next(gen)"
   ]
  },
  {
   "cell_type": "code",
   "execution_count": null,
   "id": "278148ae-5c5d-464a-b0a6-abd2c4235698",
   "metadata": {},
   "outputs": [],
   "source": []
  }
 ],
 "metadata": {
  "kernelspec": {
   "display_name": "Python 3 (ipykernel)",
   "language": "python",
   "name": "python3"
  },
  "language_info": {
   "codemirror_mode": {
    "name": "ipython",
    "version": 3
   },
   "file_extension": ".py",
   "mimetype": "text/x-python",
   "name": "python",
   "nbconvert_exporter": "python",
   "pygments_lexer": "ipython3",
   "version": "3.12.3"
  }
 },
 "nbformat": 4,
 "nbformat_minor": 5
}
